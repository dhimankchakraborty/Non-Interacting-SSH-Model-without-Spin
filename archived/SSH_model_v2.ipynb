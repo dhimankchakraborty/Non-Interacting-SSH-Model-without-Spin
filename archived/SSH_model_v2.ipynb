{
  "cells": [
    {
      "cell_type": "markdown",
      "metadata": {},
      "source": [
        "## Properties of the Model\n",
        "\n",
        "\n",
        "1.   **Half-filing** : Each unit cell has only one electron of one type of spin. As we are ignoring the spin in this case, then we consider one electron in each unit cell where there is two atom or sites.\n",
        "2.   **Basis** : as basis we can take byte strings.\n",
        "\n"
      ]
    },
    {
      "cell_type": "markdown",
      "metadata": {},
      "source": [
        "### Imports"
      ]
    },
    {
      "cell_type": "code",
      "execution_count": 2,
      "metadata": {
        "id": "wPsd0iP_nFlf"
      },
      "outputs": [],
      "source": [
        "import numpy as np\n",
        "import scipy as sp\n",
        "import matplotlib.pyplot as plt\n",
        "import itertools"
      ]
    },
    {
      "cell_type": "markdown",
      "metadata": {},
      "source": [
        "### Functions"
      ]
    },
    {
      "cell_type": "code",
      "execution_count": 4,
      "metadata": {
        "id": "z7kyjElinQt7"
      },
      "outputs": [],
      "source": [
        "def basis_generator(N):\n",
        "  \"\"\"\n",
        "  N : total number of sites\n",
        "  N//2 : number of electrons\n",
        "  N//2 : number of unit cells\n",
        "  \"\"\"\n",
        "  basis = []\n",
        "\n",
        "  for combination_indices in itertools.combinations(range(N), N // 2):\n",
        "    state = [0] * N\n",
        "    for index in combination_indices:\n",
        "      state[index] = 1\n",
        "    basis.append(state)\n",
        "\n",
        "  final_basis = []\n",
        "\n",
        "  flag = 0\n",
        "  for i in range(len(basis)):\n",
        "    for j in range(0, N, 2):\n",
        "      if (int(basis[i][j] + basis[i][j + 1]) == 2) or (int(basis[i][j] + basis[i][j + 1]) == 0):\n",
        "        flag = 1\n",
        "        break\n",
        "    if flag == 0:\n",
        "      final_basis.append(basis[i])\n",
        "    else:\n",
        "      flag = 0\n",
        "\n",
        "  return np.array(final_basis, dtype=np.float64)\n",
        "\n",
        "\n",
        "# def hamiltonian_generator(N, basis, v, w):\n",
        "#   d = len(basis)\n",
        "#   H = np.zeros((d, d))\n",
        "\n",
        "#   for i in range(d):\n",
        "#     for j in range(d):\n",
        "#       H[i][j], _ = H_ij(i, j, basis, N, v, w)\n",
        "\n",
        "#   return H\n",
        "\n",
        "\n",
        "def hamiltonian_generator(N, basis, v, w):\n",
        "  d = len(basis)\n",
        "  H = np.zeros((d, d))\n",
        "\n",
        "  for i in range(d):\n",
        "    for j in range(d):\n",
        "      H[j][i] = np.dot(H__ket(basis[i], N, v, w), basis[j])\n",
        "\n",
        "  return H\n",
        "\n",
        "\n",
        "# def hamiltonian_generator(N, basis, v, w):\n",
        "#   d = len(basis)\n",
        "#   H = np.zeros((d, d))\n",
        "\n",
        "#   for i in range(d):\n",
        "#     for j in range(d):\n",
        "#       bra = np.divide(basis[j], np.linalg.norm(basis[j]))\n",
        "#       H_ket = np.divide(H__ket(basis[i], N, v, w), np.linalg.norm(H__ket(basis[i], N, v, w)))\n",
        "#       H[j][i] = np.dot(H_ket, bra)\n",
        "\n",
        "#   return H\n",
        "\n",
        "\n",
        "\n",
        "def H_ij(i, j, basis, N, v, w):\n",
        "  ket = basis[i]\n",
        "  H_ket = np.zeros((N))\n",
        "  bra = basis[j]\n",
        "  H_element = 0\n",
        "  for k in range(0, N):\n",
        "    if ket[k] == 1:\n",
        "      H_ket[k] = 0\n",
        "    else:\n",
        "      H_ket[k] = C_dag(k, ket, v, w, N)\n",
        "\n",
        "  for k in range(0, N):\n",
        "    H_element += H_ket[k] * bra[k]\n",
        "\n",
        "  return H_element, H_ket\n",
        "\n",
        "\n",
        "def C_dag(k, ket, v, w, N):\n",
        "  res = 0\n",
        "  if k // 2 == 0:\n",
        "    if ket[k + 1] == 1:\n",
        "      res += v\n",
        "    if k != 0 and ket[k - 1] == 1:\n",
        "      res += w\n",
        "  elif k // 2 == 1:\n",
        "    if ket[k - 1] == 1:\n",
        "      res += v\n",
        "    if k != N - 1 and ket[k + 1] == 1:\n",
        "      res += w\n",
        "  return res\n",
        "\n",
        "\n",
        "# def H__ket(ket, N, v, w):\n",
        "#   res = np.zeros((N))\n",
        "#   for i in range(N):\n",
        "#     if ket[i] != 1:\n",
        "#       if i % 2 == 0 and i - 1 > 0:\n",
        "#         if ket[i - 1] == 1:\n",
        "#           res[i] += w\n",
        "#         if ket[i + 1] == 1:\n",
        "#           res[i] += v\n",
        "#       elif i % 2 == 1 and i + 1 < N:\n",
        "#         if ket[i - 1] == 1:\n",
        "#           res[i] += v\n",
        "#         if ket[i + 1] == 1:\n",
        "#           res[i] += w\n",
        "#       elif i == 0 and ket[i + 1] == 1:\n",
        "#         res[i] += v\n",
        "#       elif i == N - 1 and ket[i - 1] == 1:\n",
        "#         res[i] += v\n",
        "#   return res\n",
        "\n",
        "\n",
        "def H__ket(ket, N, v, w):\n",
        "  res = np.zeros((N), dtype=np.float64)\n",
        "  for i in range(N):\n",
        "    if i % 2 == 0 and i - 1 > 0:\n",
        "      if ket[i - 1] == 1:\n",
        "        res[i] += w\n",
        "      if ket[i + 1] == 1:\n",
        "        res[i] += v\n",
        "    elif i % 2 == 1 and i + 1 < N:\n",
        "      if ket[i - 1] == 1:\n",
        "        res[i] += v\n",
        "      if ket[i + 1] == 1:\n",
        "        res[i] += w\n",
        "    elif i == 0 and ket[i + 1] == 1:\n",
        "      res[i] += v\n",
        "    elif i == N - 1 and ket[i - 1] == 1:\n",
        "      res[i] += v\n",
        "  return res\n"
      ]
    },
    {
      "cell_type": "markdown",
      "metadata": {},
      "source": [
        "### Calculation"
      ]
    },
    {
      "cell_type": "code",
      "execution_count": 11,
      "metadata": {
        "colab": {
          "base_uri": "https://localhost:8080/",
          "height": 430
        },
        "id": "KSn_GN_VAc7M",
        "outputId": "e471c557-5c2c-4fc9-efa4-8816286e2653"
      },
      "outputs": [
        {
          "data": {
            "image/png": "[encoded data removed]",
            "text/plain": [
              "<Figure size 640x480 with 1 Axes>"
            ]
          },
          "metadata": {},
          "output_type": "display_data"
        }
      ],
      "source": [
        "steps = 101\n",
        "v_arr = np.linspace(0, 3, steps)\n",
        "w = 1\n",
        "N = 14\n",
        "basis = basis_generator(N)\n",
        "E_arr = np.zeros((steps, 2**int(N / 2)), dtype=np.float64)\n",
        "E_vec_arr = np.zeros((steps, 2**int(N / 2), 2**int(N / 2)), dtype=np.float64)\n",
        "\n",
        "for i, v in enumerate(v_arr):\n",
        "  H = hamiltonian_generator(N, basis, v, w)\n",
        "\n",
        "  e_val, e_vec = np.linalg.eigh(H)\n",
        "  # print(H)\n",
        "  # print(sp.linalg.ishermitian(H))\n",
        "  idx = e_val.argsort()\n",
        "  E_arr[i] = e_val[idx]\n",
        "  E_vec_arr[i] = e_vec[:, idx]\n",
        "  # print(len(e_vec))\n",
        "  # print(len(e_vec[0]))\n",
        "\n",
        "# print(len(E_arr[0]))\n",
        "\n",
        "E_arr_T = E_arr.transpose()\n",
        "\n",
        "# for i in range(steps):\n",
        "#   for j in range(N):\n",
        "#     E_arr_2[j,i] = E_arr[i][j]\n",
        "\n",
        "# print(E_arr_2)\n",
        "\n",
        "e_leb = 0\n",
        "for e_arr in E_arr_T:\n",
        "  e_leb += 1\n",
        "  # if e_leb == :\n",
        "  #   break\n",
        "  plt.plot(v_arr,e_arr)\n",
        "\n",
        "# plt.legend()\n",
        "plt.title(f\"(Many-electron system) Energy vs v for N: {N}\")\n",
        "plt.xlabel(\"v\")\n",
        "plt.ylabel(\"Energy\")\n",
        "plt.show()"
      ]
    }
  ],
  "metadata": {
    "colab": {
      "provenance": []
    },
    "kernelspec": {
      "display_name": "Python 3",
      "name": "python3"
    },
    "language_info": {
      "codemirror_mode": {
        "name": "ipython",
        "version": 3
      },
      "file_extension": ".py",
      "mimetype": "text/x-python",
      "name": "python",
      "nbconvert_exporter": "python",
      "pygments_lexer": "ipython3",
      "version": "3.13.4"
    }
  },
  "nbformat": 4,
  "nbformat_minor": 0
}
