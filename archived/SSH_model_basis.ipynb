{
  "cells": [
    {
      "cell_type": "markdown",
      "metadata": {
        "id": "5wYRkZqQgxO8"
      },
      "source": [
        "## Properties of the Model\n",
        "\n",
        "\n",
        "1.   **Half-filing** : Each unit cell has only one electron of one type of spin. As we are ignoring the spin in this case, then we consider one electron in each unit cell where there is two atom or sites.\n",
        "2.   **Basis** : as basis we can take byte strings.\n",
        "\n"
      ]
    },
    {
      "cell_type": "code",
      "execution_count": null,
      "metadata": {
        "id": "7gzOYcRRrf3s"
      },
      "outputs": [],
      "source": [
        "import numpy as np\n",
        "import scipy as sp\n",
        "import matplotlib.pyplot as plt\n",
        "import itertools"
      ]
    },
    {
      "cell_type": "markdown",
      "source": [
        "# Basis Generation"
      ],
      "metadata": {
        "id": "fqB7KP1spqai"
      }
    },
    {
      "cell_type": "markdown",
      "source": [
        "### Unsuccessful Tries"
      ],
      "metadata": {
        "id": "nrPjc6Ompuu9"
      }
    },
    {
      "cell_type": "code",
      "execution_count": null,
      "metadata": {
        "colab": {
          "base_uri": "https://localhost:8080/"
        },
        "id": "t7aFuNlKrlif",
        "outputId": "70492878-dad9-4f98-e058-24c70ca7247b"
      },
      "outputs": [
        {
          "name": "stdout",
          "output_type": "stream",
          "text": [
            "[[1. 0. 1. 0. 1. 0.]\n",
            " [0. 1. 1. 0. 1. 0.]\n",
            " [1. 0. 0. 1. 1. 0.]\n",
            " [1. 0. 1. 0. 0. 1.]]\n"
          ]
        }
      ],
      "source": [
        "def swap_particle(state, i):\n",
        "  state[i], state[i + 1] = state[i + 1], state[i]\n",
        "  return state\n",
        "\n",
        "\n",
        "def basis_generator(N):\n",
        "\n",
        "  \"\"\"\n",
        "  N : total number of sites\n",
        "  \"\"\"\n",
        "  # basis = np.zeros((N, N))\n",
        "  basis = []\n",
        "\n",
        "  basis_0 = np.zeros((N))\n",
        "\n",
        "  for i in range(0, N, 2):\n",
        "    basis_0[i] = 1\n",
        "\n",
        "  basis.append(basis_0.copy())\n",
        "\n",
        "  for i in range(0, N, 2):\n",
        "    new_state = swap_particle(basis_0.copy(), i)\n",
        "\n",
        "    if new_state not in basis:\n",
        "      basis.append(new_state.copy())\n",
        "\n",
        "\n",
        "\n",
        "  return np.array(basis)\n",
        "\n",
        "\n",
        "print(basis_generator(6))"
      ]
    },
    {
      "cell_type": "code",
      "execution_count": null,
      "metadata": {
        "id": "w_si9O1xvoIr"
      },
      "outputs": [],
      "source": [
        "def swap_particle(state, i):\n",
        "  state[i], state[i + 1] = state[i + 1], state[i]\n",
        "  return state\n",
        "\n",
        "\n",
        "def do_swap(state, i, N, basis):\n",
        "  if i >= N:\n",
        "    basis.append(state.copy())\n",
        "    return basis\n",
        "  else:\n",
        "    new_state = swap_particle(state.copy(), i)\n",
        "    basis += do_swap(new_state.copy(), i + 2, N, basis)\n",
        "    basis += do_not_swap(new_state.copy(), i + 2, N, basis)\n",
        "    basis.append(new_state.copy())\n",
        "    return basis\n",
        "\n",
        "\n",
        "def do_not_swap(state, i, N, basis):\n",
        "  if i >= N:\n",
        "    if state not in basis:\n",
        "      basis.append(state.copy())\n",
        "    return basis\n",
        "  else:\n",
        "    new_state = state.copy()\n",
        "    basis += do_swap(new_state.copy(), i + 2, N, basis)\n",
        "    basis += do_not_swap(new_state.copy(), i + 2, N, basis)\n",
        "\n",
        "    if new_state not in basis:\n",
        "      basis.append(new_state.copy())\n",
        "\n",
        "    return basis\n",
        "\n",
        "\n",
        "def basis_generator(N):\n",
        "\n",
        "  \"\"\"\n",
        "  N : total number of sites\n",
        "  \"\"\"\n",
        "  # basis = np.zeros((N, N))\n",
        "  basis = []\n",
        "\n",
        "  basis_0 = np.zeros((N))\n",
        "\n",
        "  for i in range(0, N, 2):\n",
        "    basis_0[i] = 1\n",
        "\n",
        "  basis += do_swap(basis_0.copy(), 2, N, basis)\n",
        "  basis += do_not_swap(basis_0.copy(), 2, N, basis)\n",
        "\n",
        "  return np.array(basis)\n",
        "\n",
        "\n",
        "print(len(basis_generator(4)))\n"
      ]
    },
    {
      "cell_type": "markdown",
      "source": [
        "### Final Version (Checked OK)"
      ],
      "metadata": {
        "id": "WsBuHGxep1gq"
      }
    },
    {
      "cell_type": "code",
      "source": [
        "def basis_generator(N):\n",
        "  \"\"\"\n",
        "  N : total number of sites\n",
        "  N//2 : number of electrons\n",
        "  \"\"\"\n",
        "  basis = []\n",
        "\n",
        "  for combination_indices in itertools.combinations(range(N), N // 2):\n",
        "    state = [0] * N\n",
        "    # state = np.zeros((N))\n",
        "    for index in combination_indices:\n",
        "      state[index] = 1\n",
        "    basis.append(state)\n",
        "\n",
        "  final_basis = []\n",
        "\n",
        "  flag = 0\n",
        "  for i in range(len(basis)):\n",
        "    for j in range(0, N, 2):\n",
        "      if (int(basis[i][j] + basis[i][j + 1]) == 2) or (int(basis[i][j] + basis[i][j + 1]) == 0):\n",
        "        flag = 1\n",
        "        break\n",
        "    if flag == 0:\n",
        "      final_basis.append(basis[i])\n",
        "      # print(basis[i])\n",
        "    else:\n",
        "      flag = 0\n",
        "\n",
        "  return np.array(final_basis)\n",
        "\n",
        "\n",
        "print(len(basis_generator(12)))"
      ],
      "metadata": {
        "colab": {
          "base_uri": "https://localhost:8080/"
        },
        "id": "YiusmjbIobFr",
        "outputId": "39eaa901-441b-4cf7-ec4b-246691a8182c"
      },
      "execution_count": null,
      "outputs": [
        {
          "output_type": "stream",
          "name": "stdout",
          "text": [
            "64\n"
          ]
        }
      ]
    }
  ],
  "metadata": {
    "colab": {
      "provenance": []
    },
    "kernelspec": {
      "display_name": "Python 3",
      "name": "python3"
    },
    "language_info": {
      "name": "python"
    }
  },
  "nbformat": 4,
  "nbformat_minor": 0
}