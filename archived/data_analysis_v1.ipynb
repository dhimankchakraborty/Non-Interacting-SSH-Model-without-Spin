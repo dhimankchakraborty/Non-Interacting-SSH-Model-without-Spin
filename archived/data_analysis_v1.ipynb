{
 "cells": [
  {
   "cell_type": "code",
   "execution_count": 54,
   "id": "b8ccfb8d",
   "metadata": {},
   "outputs": [],
   "source": [
    "import h5py\n",
    "import numpy as np\n",
    "import matplotlib.pyplot as plt\n",
    "import scipy as sp\n",
    "import itertools"
   ]
  },
  {
   "cell_type": "code",
   "execution_count": 27,
   "id": "a3edbfb7",
   "metadata": {},
   "outputs": [],
   "source": [
    "data_file.close()"
   ]
  },
  {
   "cell_type": "code",
   "execution_count": 3,
   "id": "63e77146",
   "metadata": {},
   "outputs": [],
   "source": [
    "data_file = h5py.File('SSH_model_v3.h5', 'a')"
   ]
  },
  {
   "cell_type": "code",
   "execution_count": 4,
   "id": "19cceb16",
   "metadata": {},
   "outputs": [
    {
     "name": "stdout",
     "output_type": "stream",
     "text": [
      "['run-1']\n"
     ]
    }
   ],
   "source": [
    "print(list(data_file.keys()))"
   ]
  },
  {
   "cell_type": "code",
   "execution_count": 6,
   "id": "62974d31",
   "metadata": {},
   "outputs": [
    {
     "name": "stdout",
     "output_type": "stream",
     "text": [
      "['E_arr', 'E_vec_arr', 'v_arr']\n"
     ]
    }
   ],
   "source": [
    "group = data_file['run-1']\n",
    "print(list(group.keys()))"
   ]
  },
  {
   "cell_type": "code",
   "execution_count": null,
   "id": "c81fc8f8",
   "metadata": {},
   "outputs": [],
   "source": [
    "v_arr = np.array(data_file['run-1']['v_arr'][:])\n",
    "print(v_arr)\n",
    "print(np.shape(v_arr))"
   ]
  },
  {
   "cell_type": "code",
   "execution_count": null,
   "id": "57e10fb2",
   "metadata": {},
   "outputs": [],
   "source": [
    "E_arr = np.array(data_file['run-1']['E_arr'][:])\n",
    "print(E_arr)\n",
    "print(np.shape(E_arr))"
   ]
  },
  {
   "cell_type": "code",
   "execution_count": null,
   "id": "02e3c929",
   "metadata": {},
   "outputs": [],
   "source": [
    "E_vec_arr = np.array(data_file['run-1']['E_vec_arr'][:])\n",
    "print(E_vec_arr)\n",
    "print(np.shape(E_vec_arr))"
   ]
  },
  {
   "cell_type": "code",
   "execution_count": null,
   "id": "25a2ad78",
   "metadata": {},
   "outputs": [],
   "source": [
    "N = 14\n",
    "\n",
    "# print(v_arr)\n",
    "# print(E_arr)\n",
    "# print('--------')\n",
    "# print(E_arr_T)\n",
    "\n",
    "for i, v in enumerate(v_arr):\n",
    "  print(f\"{i} ---->> {v}\")\n",
    "\n",
    "E_arr_T = E_arr.transpose()\n",
    "\n",
    "e_leb = 0\n",
    "for e_arr in E_arr_T[:len(E_arr_T) - 1]:\n",
    "  e_leb += 1\n",
    "  plt.plot(v_arr,e_arr)\n",
    "\n",
    "\n",
    "plt.title(f\"(Many-electron system) Energy vs v for N: {N}\")\n",
    "plt.xlabel(\"v\")\n",
    "plt.ylabel(\"Energy\")\n",
    "plt.grid()\n",
    "plt.show()"
   ]
  },
  {
   "cell_type": "code",
   "execution_count": 39,
   "id": "0d07a6da",
   "metadata": {},
   "outputs": [
    {
     "name": "stdout",
     "output_type": "stream",
     "text": [
      "5.514118760081273e-18\n",
      "1842\n",
      "1.8311025325547657e-17\n",
      "1837\n"
     ]
    }
   ],
   "source": [
    "print(np.min(np.abs(E_arr[17])))\n",
    "print(np.argmin(np.abs(E_arr[17])))\n",
    "print(np.min(np.abs(E_arr[84])))\n",
    "print(np.argmin(np.abs(E_arr[84])))"
   ]
  },
  {
   "cell_type": "code",
   "execution_count": 41,
   "id": "b15d5967",
   "metadata": {},
   "outputs": [
    {
     "name": "stdout",
     "output_type": "stream",
     "text": [
      "[ 0.00020913 -0.03285407  0.00442126 ... -0.00779071  0.01687301\n",
      " -0.01702684]\n",
      "---------\n",
      "[ 0.02387722 -0.00377035 -0.01642159 ... -0.00501075  0.01095129\n",
      "  0.01778782]\n"
     ]
    }
   ],
   "source": [
    "e_vec_17 = E_vec_arr[17][np.argmin(np.abs(E_arr[17]))]\n",
    "print(e_vec_17)\n",
    "print(\"---------\")\n",
    "e_vec_84 = E_vec_arr[84][np.argmin(np.abs(E_arr[84]))]\n",
    "print(e_vec_84)"
   ]
  },
  {
   "cell_type": "code",
   "execution_count": 34,
   "id": "abf029a8",
   "metadata": {},
   "outputs": [
    {
     "name": "stdout",
     "output_type": "stream",
     "text": [
      "[-1366.76376958 -1283.68538099 -1148.22253347 ...  1165.30993051\n",
      "  1282.86397846 16504.79715889]\n",
      "[-3197.97969245 -3039.76934427 -2786.36231452 ...  2819.37246713\n",
      "  3038.48650475 40599.61181931]\n"
     ]
    }
   ],
   "source": [
    "print(E_arr[17])\n",
    "print(E_arr[84])"
   ]
  },
  {
   "cell_type": "code",
   "execution_count": 44,
   "id": "bd1b2efe",
   "metadata": {},
   "outputs": [],
   "source": [
    "def normalize(v):\n",
    "    norm = np.linalg.norm(v)\n",
    "    if norm == 0: \n",
    "       return v\n",
    "    return v / norm"
   ]
  },
  {
   "cell_type": "code",
   "execution_count": 48,
   "id": "b3e88f6c",
   "metadata": {},
   "outputs": [
    {
     "name": "stdout",
     "output_type": "stream",
     "text": [
      "[ 0.00020913 -0.03285407  0.00442126 ... -0.00779071  0.01687301\n",
      " -0.01702684]\n",
      "[ 0.02387722 -0.00377035 -0.01642159 ... -0.00501075  0.01095129\n",
      "  0.01778782]\n",
      "3432\n",
      "3432\n",
      "1.0\n",
      "1.0\n"
     ]
    }
   ],
   "source": [
    "e_vec_17_normalized = normalize(e_vec_17)\n",
    "e_vec_84_normalized = normalize(e_vec_84)\n",
    "print(e_vec_17_normalized)\n",
    "print(e_vec_84_normalized)\n",
    "print(len(e_vec_17_normalized))\n",
    "print(len(e_vec_84_normalized))\n",
    "print(np.linalg.norm(e_vec_17_normalized))\n",
    "print(np.linalg.norm(e_vec_84_normalized))"
   ]
  },
  {
   "cell_type": "code",
   "execution_count": 56,
   "id": "db4e0d68",
   "metadata": {},
   "outputs": [],
   "source": [
    "def basis_generator(N): # Checked OK\n",
    "\n",
    "  basis = []\n",
    "\n",
    "  for combination_indices in itertools.combinations(range(N), N // 2):\n",
    "    state = [0] * N\n",
    "    for index in combination_indices:\n",
    "      state[index] = 1\n",
    "    basis.append(state)\n",
    "  \n",
    "  return np.array(basis, dtype=np.float64)\n",
    "\n",
    "\n",
    "def pos_sp_wf(N, v):\n",
    "    basis = basis_generator(N)\n",
    "    res = np.zeros(N)\n",
    "\n",
    "    if len(basis) != len(v):\n",
    "        print(\"error\")\n",
    "\n",
    "    for i in range(len(basis)):\n",
    "        res += v[i] * basis[i]\n",
    "    \n",
    "    return res\n"
   ]
  },
  {
   "cell_type": "code",
   "execution_count": 57,
   "id": "10410faa",
   "metadata": {},
   "outputs": [
    {
     "name": "stdout",
     "output_type": "stream",
     "text": [
      "[-0.76882381 -0.66729614 -1.24144548 -0.62329331 -0.73977081 -0.75940163\n",
      "  0.6023663  -0.64142414 -0.48176887 -0.30032058 -0.78074929 -0.24371302\n",
      " -1.81178056  0.40964437]\n",
      "14\n",
      "[-0.4791402  -0.2732171   0.49106562 -0.2238407   0.55750811 -0.88338245\n",
      "  0.41319353 -1.41056686 -0.24719267  0.16233276 -0.69650145 -0.23975892\n",
      "  0.65259952 -0.19103241]\n",
      "14\n"
     ]
    }
   ],
   "source": [
    "N = 14\n",
    "\n",
    "plt_wf_17 = pos_sp_wf(N, e_vec_17_normalized)\n",
    "print(plt_wf_17)\n",
    "print(len(plt_wf_17))\n",
    "plt_wf_84 = pos_sp_wf(N, e_vec_84_normalized)\n",
    "print(plt_wf_84)\n",
    "print(len(plt_wf_84))"
   ]
  },
  {
   "cell_type": "code",
   "execution_count": 58,
   "id": "ad9e55de",
   "metadata": {},
   "outputs": [
    {
     "name": "stdout",
     "output_type": "stream",
     "text": [
      "[-0.25202741 -0.21874572 -0.40695707 -0.20432119 -0.24250357 -0.24893873\n",
      "  0.19746113 -0.21026464 -0.1579282  -0.09844781 -0.25593669 -0.07989134\n",
      " -0.59391808  0.13428514]\n",
      "[-0.21558595 -0.12293222  0.22095171 -0.10071564  0.25084708 -0.39747207\n",
      "  0.18591368 -0.6346752  -0.1112227   0.07304055 -0.31338621 -0.10787793\n",
      "  0.29363282 -0.08595377]\n"
     ]
    }
   ],
   "source": [
    "plt_wf_17_normalized = normalize(plt_wf_17)\n",
    "print(plt_wf_17_normalized)\n",
    "plt_wf_84_normalized = normalize(plt_wf_84)\n",
    "print(plt_wf_84_normalized)"
   ]
  },
  {
   "cell_type": "code",
   "execution_count": 62,
   "id": "87b4b7af",
   "metadata": {},
   "outputs": [
    {
     "data": {
      "image/png": "[encoded data removed]",
      "text/plain": [
       "<Figure size 640x480 with 1 Axes>"
      ]
     },
     "metadata": {},
     "output_type": "display_data"
    },
    {
     "data": {
      "image/png": "[encoded data removed]",
      "text/plain": [
       "<Figure size 640x480 with 1 Axes>"
      ]
     },
     "metadata": {},
     "output_type": "display_data"
    }
   ],
   "source": [
    "pos_arr = np.arange(1, N + 1)\n",
    "\n",
    "plt.plot(pos_arr, plt_wf_17_normalized**2)\n",
    "plt.grid()\n",
    "plt.show()\n",
    "\n",
    "plt.plot(pos_arr, plt_wf_84_normalized**2)\n",
    "plt.grid()\n",
    "plt.show()\n"
   ]
  }
 ],
 "metadata": {
  "kernelspec": {
   "display_name": "Python 3",
   "language": "python",
   "name": "python3"
  },
  "language_info": {
   "codemirror_mode": {
    "name": "ipython",
    "version": 3
   },
   "file_extension": ".py",
   "mimetype": "text/x-python",
   "name": "python",
   "nbconvert_exporter": "python",
   "pygments_lexer": "ipython3",
   "version": "3.13.4"
  }
 },
 "nbformat": 4,
 "nbformat_minor": 5
}
