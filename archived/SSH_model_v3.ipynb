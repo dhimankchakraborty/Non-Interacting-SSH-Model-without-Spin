{
  "cells": [
    {
      "cell_type": "markdown",
      "metadata": {},
      "source": [
        "## Properties of the Model (Basis is Changed)\n",
        "\n",
        "\n",
        "1.   **Half-filing** : Each unit cell has only one electron of one type of spin. As we are ignoring the spin in this case, then we consider one electron in each unit cell where there is two atom or sites.\n",
        "\n",
        "2.   **Basis** : as basis we can take byte strings.\n",
        "\n",
        "3. **N** : total number of sites\n",
        "\n",
        "4. **N//2** : number of electrons\n",
        "\n",
        "5. **N//2** : number of unit cells\n",
        "\n"
      ]
    },
    {
      "cell_type": "markdown",
      "metadata": {},
      "source": [
        "### Imports"
      ]
    },
    {
      "cell_type": "code",
      "execution_count": 1,
      "metadata": {
        "id": "wPsd0iP_nFlf"
      },
      "outputs": [],
      "source": [
        "import numpy as np\n",
        "import scipy as sp\n",
        "import matplotlib.pyplot as plt\n",
        "import itertools"
      ]
    },
    {
      "cell_type": "markdown",
      "metadata": {},
      "source": [
        "### Functions"
      ]
    },
    {
      "cell_type": "code",
      "execution_count": 21,
      "metadata": {
        "id": "z7kyjElinQt7"
      },
      "outputs": [],
      "source": [
        "def basis_generator(N): # Checked OK\n",
        "\n",
        "  basis = []\n",
        "\n",
        "  for combination_indices in itertools.combinations(range(N), N // 2):\n",
        "    state = [0] * N\n",
        "    for index in combination_indices:\n",
        "      state[index] = 1\n",
        "    basis.append(state)\n",
        "  \n",
        "  return np.array(basis, dtype=np.float64)\n",
        "\n",
        "\n",
        "def hamiltonian_generator(N, basis, v, w):\n",
        "  d = len(basis)\n",
        "  H = np.zeros((d, d))\n",
        "\n",
        "  for i in range(d):\n",
        "    for j in range(d):\n",
        "      H[j][i] = np.dot(H__ket(basis[i], N, v, w), basis[j])\n",
        "\n",
        "  return H\n",
        "\n",
        "\n",
        "def H__ket(ket, N, v, w):\n",
        "  res = np.zeros((N), dtype=np.float64)\n",
        "  for i in range(N):\n",
        "    if i % 2 == 0 and i - 1 > 0:\n",
        "      if ket[i - 1] == 1:\n",
        "        res[i] += w\n",
        "      if ket[i + 1] == 1:\n",
        "        res[i] += v\n",
        "    elif i % 2 == 1 and i + 1 < N:\n",
        "      if ket[i - 1] == 1:\n",
        "        res[i] += v\n",
        "      if ket[i + 1] == 1:\n",
        "        res[i] += w\n",
        "    elif i == 0 and ket[i + 1] == 1:\n",
        "      res[i] += v\n",
        "    elif i == N - 1 and ket[i - 1] == 1:\n",
        "      res[i] += v\n",
        "  return res"
      ]
    },
    {
      "cell_type": "code",
      "execution_count": null,
      "metadata": {},
      "outputs": [],
      "source": [
        "print(len(basis_generator(4)))\n",
        "print(basis_generator(4))"
      ]
    },
    {
      "cell_type": "code",
      "execution_count": null,
      "metadata": {},
      "outputs": [],
      "source": [
        "# k = 0\n",
        "N = 4\n",
        "v = 1\n",
        "w = 2\n",
        "\n",
        "basis = basis_generator(N)\n",
        "ket = basis[k]\n",
        "\n",
        "# print(len(basis))\n",
        "# print(basis)\n",
        "\n",
        "# H_ket = H__ket(ket, N, v, w)\n",
        "\n",
        "# print(ket)\n",
        "# print(H_ket)\n",
        "# for k in range(len(basis)):\n",
        "#     ket = basis[k]\n",
        "#     H_ket = H__ket(ket, N, v, w)\n",
        "#     print(f\"{ket} ---->> {H_ket}\")\n",
        "\n",
        "H = hamiltonian_generator(N, basis, v, w)\n",
        "print(H)\n",
        "print(sp.linalg.ishermitian(H))"
      ]
    },
    {
      "cell_type": "markdown",
      "metadata": {},
      "source": [
        "### Calculation"
      ]
    },
    {
      "cell_type": "code",
      "execution_count": 30,
      "metadata": {
        "colab": {
          "base_uri": "https://localhost:8080/",
          "height": 430
        },
        "id": "KSn_GN_VAc7M",
        "outputId": "e471c557-5c2c-4fc9-efa4-8816286e2653"
      },
      "outputs": [
        {
          "name": "stdout",
          "output_type": "stream",
          "text": [
            "Iteration Number: 0\n",
            "Iteration Number: 1\n",
            "Iteration Number: 2\n",
            "Iteration Number: 3\n",
            "Iteration Number: 4\n",
            "Iteration Number: 5\n",
            "Iteration Number: 6\n",
            "Iteration Number: 7\n",
            "Iteration Number: 8\n",
            "Iteration Number: 9\n",
            "Iteration Number: 10\n",
            "Iteration Number: 11\n",
            "Iteration Number: 12\n",
            "Iteration Number: 13\n",
            "Iteration Number: 14\n",
            "Iteration Number: 15\n",
            "Iteration Number: 16\n",
            "Iteration Number: 17\n",
            "Iteration Number: 18\n",
            "Iteration Number: 19\n",
            "Iteration Number: 20\n",
            "Iteration Number: 21\n",
            "Iteration Number: 22\n",
            "Iteration Number: 23\n",
            "Iteration Number: 24\n",
            "Iteration Number: 25\n",
            "Iteration Number: 26\n",
            "Iteration Number: 27\n",
            "Iteration Number: 28\n",
            "Iteration Number: 29\n",
            "Iteration Number: 30\n",
            "Iteration Number: 31\n",
            "Iteration Number: 32\n",
            "Iteration Number: 33\n",
            "Iteration Number: 34\n",
            "Iteration Number: 35\n",
            "Iteration Number: 36\n",
            "Iteration Number: 37\n",
            "Iteration Number: 38\n",
            "Iteration Number: 39\n",
            "Iteration Number: 40\n",
            "Iteration Number: 41\n",
            "Iteration Number: 42\n",
            "Iteration Number: 43\n",
            "Iteration Number: 44\n",
            "Iteration Number: 45\n",
            "Iteration Number: 46\n",
            "Iteration Number: 47\n",
            "Iteration Number: 48\n",
            "Iteration Number: 49\n",
            "Iteration Number: 50\n",
            "Iteration Number: 51\n",
            "Iteration Number: 52\n",
            "Iteration Number: 53\n",
            "Iteration Number: 54\n",
            "Iteration Number: 55\n",
            "Iteration Number: 56\n",
            "Iteration Number: 57\n",
            "Iteration Number: 58\n",
            "Iteration Number: 59\n",
            "Iteration Number: 60\n",
            "Iteration Number: 61\n",
            "Iteration Number: 62\n",
            "Iteration Number: 63\n",
            "Iteration Number: 64\n",
            "Iteration Number: 65\n",
            "Iteration Number: 66\n",
            "Iteration Number: 67\n",
            "Iteration Number: 68\n",
            "Iteration Number: 69\n",
            "Iteration Number: 70\n",
            "Iteration Number: 71\n",
            "Iteration Number: 72\n",
            "Iteration Number: 73\n",
            "Iteration Number: 74\n",
            "Iteration Number: 75\n",
            "Iteration Number: 76\n",
            "Iteration Number: 77\n",
            "Iteration Number: 78\n",
            "Iteration Number: 79\n",
            "Iteration Number: 80\n",
            "Iteration Number: 81\n",
            "Iteration Number: 82\n",
            "Iteration Number: 83\n",
            "Iteration Number: 84\n",
            "Iteration Number: 85\n",
            "Iteration Number: 86\n",
            "Iteration Number: 87\n",
            "Iteration Number: 88\n",
            "Iteration Number: 89\n",
            "Iteration Number: 90\n",
            "Iteration Number: 91\n",
            "Iteration Number: 92\n",
            "Iteration Number: 93\n",
            "Iteration Number: 94\n",
            "Iteration Number: 95\n",
            "Iteration Number: 96\n",
            "Iteration Number: 97\n",
            "Iteration Number: 98\n",
            "Iteration Number: 99\n",
            "Iteration Number: 100\n"
          ]
        },
        {
          "data": {
            "image/png": "[encoded data removed]",
            "text/plain": [
              "<Figure size 640x480 with 1 Axes>"
            ]
          },
          "metadata": {},
          "output_type": "display_data"
        }
      ],
      "source": [
        "steps = 101\n",
        "v_arr = np.linspace(0, 3, steps)\n",
        "w = 1\n",
        "N = 14\n",
        "basis = basis_generator(N)\n",
        "E_arr = np.zeros((steps, len(basis)), dtype=np.float64)\n",
        "E_vec_arr = np.zeros((steps, len(basis), len(basis)), dtype=np.float64)\n",
        "\n",
        "for i, v in enumerate(v_arr):\n",
        "  print(f\"Iteration Number: {i}\")\n",
        "  H = hamiltonian_generator(N, basis, v, w)\n",
        "\n",
        "  e_val, e_vec = np.linalg.eigh(H)\n",
        "\n",
        "  idx = e_val.argsort()\n",
        "  E_arr[i] = e_val[idx]\n",
        "  E_vec_arr[i] = e_vec[:, idx]\n",
        "\n",
        "E_arr_T = E_arr.transpose()\n",
        "\n",
        "e_leb = 0\n",
        "for e_arr in E_arr_T:\n",
        "  e_leb += 1\n",
        "  plt.plot(v_arr,e_arr)\n",
        "\n",
        "\n",
        "plt.title(f\"(Many-electron system) Energy vs v for N: {N}\")\n",
        "plt.xlabel(\"v\")\n",
        "plt.ylabel(\"Energy\")\n",
        "plt.show()"
      ]
    },
    {
      "cell_type": "code",
      "execution_count": 31,
      "metadata": {},
      "outputs": [],
      "source": [
        "import h5py"
      ]
    },
    {
      "cell_type": "code",
      "execution_count": 32,
      "metadata": {},
      "outputs": [],
      "source": [
        "data_file = h5py.File('SSH_model_v3.h5', 'a')"
      ]
    },
    {
      "cell_type": "code",
      "execution_count": 37,
      "metadata": {},
      "outputs": [
        {
          "name": "stdout",
          "output_type": "stream",
          "text": [
            "[0.   0.03 0.06 0.09 0.12 0.15 0.18 0.21 0.24 0.27 0.3  0.33 0.36 0.39\n",
            " 0.42 0.45 0.48 0.51 0.54 0.57 0.6  0.63 0.66 0.69 0.72 0.75 0.78 0.81\n",
            " 0.84 0.87 0.9  0.93 0.96 0.99 1.02 1.05 1.08 1.11 1.14 1.17 1.2  1.23\n",
            " 1.26 1.29 1.32 1.35 1.38 1.41 1.44 1.47 1.5  1.53 1.56 1.59 1.62 1.65\n",
            " 1.68 1.71 1.74 1.77 1.8  1.83 1.86 1.89 1.92 1.95 1.98 2.01 2.04 2.07\n",
            " 2.1  2.13 2.16 2.19 2.22 2.25 2.28 2.31 2.34 2.37 2.4  2.43 2.46 2.49\n",
            " 2.52 2.55 2.58 2.61 2.64 2.67 2.7  2.73 2.76 2.79 2.82 2.85 2.88 2.91\n",
            " 2.94 2.97 3.  ]\n",
            "------------\n",
            "[[ -924.          -924.          -924.         ...   924.\n",
            "    924.         10428.        ]\n",
            " [ -949.07215085  -941.61156804  -930.67195553 ...   932.0772315\n",
            "    941.6022618  10783.89519575]\n",
            " [ -974.32630792  -959.84724759  -938.33235    ...   941.08453343\n",
            "    959.81301668 11140.08073588]\n",
            " ...\n",
            " [-3584.22961857 -3420.98778039 -3161.12809709 ...  3195.13244475\n",
            "   3419.76964691 45640.95177914]\n",
            " [-3611.83491147 -3448.27911378 -3188.02465819 ...  3222.0907499\n",
            "   3447.06566699 46001.07862896]\n",
            " [-3639.44206336 -3475.57755796 -3214.93584294 ...  3249.0626136\n",
            "   3474.36879623 46361.20911304]]\n",
            "------------\n",
            "[[[ 0.00000000e+00 -6.41343696e-18  5.65921876e-21 ... -2.22000217e-02\n",
            "   -5.24777313e-02  1.69613383e-02]\n",
            "  [-2.04865006e-03 -1.22549554e-02  8.26957007e-03 ... -2.52047452e-02\n",
            "   -3.05835682e-02  1.69613383e-02]\n",
            "  [ 2.44769666e-02 -2.48245932e-03  2.06600686e-02 ... -2.52047452e-02\n",
            "   -3.05835682e-02  1.69613383e-02]\n",
            "  ...\n",
            "  [-2.44769666e-02  2.48245932e-03 -2.06600686e-02 ...  2.52047452e-02\n",
            "    3.05835682e-02  1.69613383e-02]\n",
            "  [ 2.04865006e-03  1.22549554e-02 -8.26957007e-03 ...  2.52047452e-02\n",
            "    3.05835682e-02  1.69613383e-02]\n",
            "  [ 5.55935137e-18  2.89244183e-18 -3.71999581e-18 ...  2.22000217e-02\n",
            "    5.24777313e-02  1.69613383e-02]]\n",
            "\n",
            " [[-4.29642624e-04  2.24256757e-05 -1.12933667e-04 ... -2.89072137e-05\n",
            "    5.47474167e-02  1.69684814e-02]\n",
            "  [ 2.38085596e-02  2.24256757e-05  1.95735571e-02 ... -2.89072137e-05\n",
            "    4.42665291e-02  1.69684814e-02]\n",
            "  [-3.94913672e-04 -1.07086674e-02  1.11288267e-04 ... -2.48346515e-04\n",
            "    4.40094849e-02  1.69684814e-02]\n",
            "  ...\n",
            "  [ 3.94913672e-04  1.07535187e-02 -1.11288267e-04 ...  1.90532087e-04\n",
            "   -4.40094849e-02  1.69684814e-02]\n",
            "  [-2.38085596e-02  2.24256757e-05 -1.95735571e-02 ... -2.89072137e-05\n",
            "   -4.42665291e-02  1.69684814e-02]\n",
            "  [ 4.29642624e-04  2.24256757e-05  1.12933667e-04 ... -2.89072137e-05\n",
            "   -5.47474167e-02  1.69684814e-02]]\n",
            "\n",
            " [[-8.31145275e-04  4.24094298e-05 -2.31781460e-04 ... -5.53365428e-05\n",
            "    5.49920618e-02  1.69749445e-02]\n",
            "  [ 2.33989961e-02  4.24094298e-05  1.96860257e-02 ... -5.53365428e-05\n",
            "    4.48088482e-02  1.69749445e-02]\n",
            "  [-7.64096854e-04 -1.06307362e-02  2.11278196e-04 ... -4.88401791e-04\n",
            "    4.43060079e-02  1.69749445e-02]\n",
            "  ...\n",
            "  [ 7.64096854e-04  1.07155551e-02 -2.11278196e-04 ...  3.77728706e-04\n",
            "   -4.43060079e-02  1.69749445e-02]\n",
            "  [-2.33989961e-02  4.24094298e-05 -1.96860257e-02 ... -5.53365428e-05\n",
            "   -4.48088482e-02  1.69749445e-02]\n",
            "  [ 8.31145275e-04  4.24094298e-05  2.31781460e-04 ... -5.53365428e-05\n",
            "   -5.49920618e-02  1.69749445e-02]]\n",
            "\n",
            " ...\n",
            "\n",
            " [[-9.32450025e-03  1.26582979e-04 -8.01725832e-03 ... -1.77525996e-04\n",
            "    5.69404983e-02 -1.70641730e-02]\n",
            "  [ 1.42731032e-02  1.26582979e-04  1.52755192e-02 ... -1.77525996e-04\n",
            "    5.46209383e-02 -1.70641730e-02]\n",
            "  [-8.60520263e-03 -8.70378760e-03 -1.97434672e-03 ... -5.95649676e-03\n",
            "    4.80785622e-02 -1.70641730e-02]\n",
            "  ...\n",
            "  [ 8.60520263e-03  8.95695355e-03  1.97434672e-03 ...  5.60144477e-03\n",
            "   -4.80785622e-02 -1.70641731e-02]\n",
            "  [-1.42731032e-02  1.26582979e-04 -1.52755192e-02 ... -1.77525996e-04\n",
            "   -5.46209383e-02 -1.70641730e-02]\n",
            "  [ 9.32450025e-03  1.26582979e-04  8.01725832e-03 ... -1.77525996e-04\n",
            "   -5.69404983e-02 -1.70641730e-02]]\n",
            "\n",
            " [[-9.34351381e-03  1.25835220e-04 -8.04613521e-03 ... -1.76400949e-04\n",
            "    5.69362162e-02 -1.70642597e-02]\n",
            "  [ 1.42516292e-02  1.25835220e-04  1.52476616e-02 ... -1.76400949e-04\n",
            "    5.46359413e-02 -1.70642597e-02]\n",
            "  [-8.62282661e-03 -8.69954667e-03 -1.99257984e-03 ... -5.96540010e-03\n",
            "    4.80794785e-02 -1.70642597e-02]\n",
            "  ...\n",
            "  [ 8.62282661e-03  8.95121711e-03  1.99257984e-03 ...  5.61259821e-03\n",
            "   -4.80794785e-02 -1.70642598e-02]\n",
            "  [-1.42516292e-02  1.25835220e-04 -1.52476616e-02 ... -1.76400949e-04\n",
            "   -5.46359413e-02 -1.70642597e-02]\n",
            "  [ 9.34351381e-03  1.25835220e-04  8.04613521e-03 ... -1.76400949e-04\n",
            "   -5.69362162e-02 -1.70642597e-02]]\n",
            "\n",
            " [[-9.36221768e-03  1.25094935e-04 -8.07456676e-03 ... -1.75288204e-04\n",
            "    5.69319666e-02 -1.70643444e-02]\n",
            "  [ 1.42305001e-02  1.25094935e-04  1.52202076e-02 ... -1.75288204e-04\n",
            "    5.46506617e-02 -1.70643444e-02]\n",
            "  [-8.64016387e-03 -8.69537863e-03 -2.01056189e-03 ... -5.97413204e-03\n",
            "    4.80803445e-02 -1.70643443e-02]\n",
            "  ...\n",
            "  [ 8.64016387e-03  8.94556850e-03  2.01056189e-03 ...  5.62355563e-03\n",
            "   -4.80803445e-02 -1.70643444e-02]\n",
            "  [-1.42305001e-02  1.25094935e-04 -1.52202076e-02 ... -1.75288204e-04\n",
            "   -5.46506617e-02 -1.70643444e-02]\n",
            "  [ 9.36221768e-03  1.25094935e-04  8.07456676e-03 ... -1.75288204e-04\n",
            "   -5.69319666e-02 -1.70643444e-02]]]\n"
          ]
        }
      ],
      "source": [
        "print(v_arr)\n",
        "print(\"------------\")\n",
        "print(E_arr)\n",
        "print(\"------------\")\n",
        "print(E_vec_arr)"
      ]
    },
    {
      "cell_type": "code",
      "execution_count": 36,
      "metadata": {},
      "outputs": [
        {
          "data": {
            "text/plain": [
              "<HDF5 dataset \"E_vec_arr\": shape (101, 3432, 3432), type \"<f8\">"
            ]
          },
          "execution_count": 36,
          "metadata": {},
          "output_type": "execute_result"
        }
      ],
      "source": [
        "group = data_file.create_group(\"run-1\")\n",
        "group.create_dataset(\"v_arr\", data=v_arr)\n",
        "group.create_dataset(\"E_arr\", data=E_arr)\n",
        "group.create_dataset(\"E_vec_arr\", data=E_vec_arr)"
      ]
    },
    {
      "cell_type": "code",
      "execution_count": 39,
      "metadata": {},
      "outputs": [],
      "source": [
        "data_file.close()"
      ]
    }
  ],
  "metadata": {
    "colab": {
      "provenance": []
    },
    "kernelspec": {
      "display_name": "Python 3",
      "name": "python3"
    },
    "language_info": {
      "codemirror_mode": {
        "name": "ipython",
        "version": 3
      },
      "file_extension": ".py",
      "mimetype": "text/x-python",
      "name": "python",
      "nbconvert_exporter": "python",
      "pygments_lexer": "ipython3",
      "version": "3.13.4"
    }
  },
  "nbformat": 4,
  "nbformat_minor": 0
}
