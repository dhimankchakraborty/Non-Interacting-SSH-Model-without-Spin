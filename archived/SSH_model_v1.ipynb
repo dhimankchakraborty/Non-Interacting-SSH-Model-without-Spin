{
  "cells": [
    {
      "cell_type": "markdown",
      "metadata": {
        "id": "5wYRkZqQgxO8"
      },
      "source": [
        "## Properties of the Model\n",
        "\n",
        "\n",
        "1.   **Half-filing** : Each unit cell has only one electron of one type of spin. As we are ignoring the spin in this case, then we consider one electron in each unit cell where there is two atom or sites.\n",
        "2.   **Basis** : as basis we can take byte strings.\n",
        "\n"
      ]
    },
    {
      "cell_type": "markdown",
      "metadata": {},
      "source": [
        "# Fuction Import"
      ]
    },
    {
      "cell_type": "code",
      "execution_count": 1,
      "metadata": {
        "id": "7gzOYcRRrf3s"
      },
      "outputs": [],
      "source": [
        "import numpy as np\n",
        "import scipy as sp\n",
        "import matplotlib.pyplot as plt\n",
        "import itertools"
      ]
    },
    {
      "cell_type": "markdown",
      "metadata": {
        "id": "fqB7KP1spqai"
      },
      "source": [
        "### Basis Generator"
      ]
    },
    {
      "cell_type": "code",
      "execution_count": null,
      "metadata": {
        "id": "YiusmjbIobFr"
      },
      "outputs": [
        {
          "name": "stdout",
          "output_type": "stream",
          "text": [
            "8192\n"
          ]
        }
      ],
      "source": [
        "def basis_generator(N):\n",
        "  \"\"\"\n",
        "  N : total number of sites\n",
        "  N//2 : number of electrons\n",
        "  \"\"\"\n",
        "  basis = []\n",
        "\n",
        "  for combination_indices in itertools.combinations(range(N), N // 2):\n",
        "    state = [0] * N\n",
        "    # state = np.zeros((N))\n",
        "    for index in combination_indices:\n",
        "      state[index] = 1\n",
        "    basis.append(state)\n",
        "\n",
        "  final_basis = []\n",
        "\n",
        "  flag = 0\n",
        "  for i in range(len(basis)):\n",
        "    for j in range(0, N, 2):\n",
        "      if (int(basis[i][j] + basis[i][j + 1]) == 2) or (int(basis[i][j] + basis[i][j + 1]) == 0):\n",
        "        flag = 1\n",
        "        break\n",
        "    if flag == 0:\n",
        "      final_basis.append(basis[i])\n",
        "      # print(basis[i])\n",
        "    else:\n",
        "      flag = 0\n",
        "\n",
        "  return np.array(final_basis)\n",
        "\n",
        "\n",
        "print(len(basis_generator(26)))"
      ]
    }
  ],
  "metadata": {
    "colab": {
      "provenance": []
    },
    "kernelspec": {
      "display_name": "Python 3",
      "name": "python3"
    },
    "language_info": {
      "codemirror_mode": {
        "name": "ipython",
        "version": 3
      },
      "file_extension": ".py",
      "mimetype": "text/x-python",
      "name": "python",
      "nbconvert_exporter": "python",
      "pygments_lexer": "ipython3",
      "version": "3.13.4"
    }
  },
  "nbformat": 4,
  "nbformat_minor": 0
}
