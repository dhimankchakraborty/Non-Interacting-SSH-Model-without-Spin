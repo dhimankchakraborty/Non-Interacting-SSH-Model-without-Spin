{
  "nbformat": 4,
  "nbformat_minor": 0,
  "metadata": {
    "colab": {
      "provenance": []
    },
    "kernelspec": {
      "name": "python3",
      "display_name": "Python 3"
    },
    "language_info": {
      "name": "python"
    }
  },
  "cells": [
    {
      "cell_type": "code",
      "execution_count": 7,
      "metadata": {
        "id": "j60Inl4yra4G"
      },
      "outputs": [],
      "source": [
        "import numpy as np\n",
        "import scipy as sp\n",
        "import matplotlib.pyplot as plt\n",
        "import itertools"
      ]
    },
    {
      "cell_type": "code",
      "source": [
        "def basis_generator(N):\n",
        "  \"\"\"\n",
        "  N : total number of sites\n",
        "  N//2 : number of electrons\n",
        "  N//2 : number of unit cells\n",
        "  \"\"\"\n",
        "  basis = []\n",
        "\n",
        "  for combination_indices in itertools.combinations(range(N), N // 2):\n",
        "    state = [0] * N\n",
        "    # state = np.zeros((N))\n",
        "    for index in combination_indices:\n",
        "      state[index] = 1\n",
        "    basis.append(state)\n",
        "\n",
        "  final_basis = []\n",
        "\n",
        "  flag = 0\n",
        "  for i in range(len(basis)):\n",
        "    for j in range(0, N, 2):\n",
        "      if (int(basis[i][j] + basis[i][j + 1]) == 2) or (int(basis[i][j] + basis[i][j + 1]) == 0):\n",
        "        flag = 1\n",
        "        break\n",
        "    if flag == 0:\n",
        "      final_basis.append(basis[i])\n",
        "      # print(basis[i])\n",
        "    else:\n",
        "      flag = 0\n",
        "\n",
        "  return np.array(final_basis)\n",
        "\n",
        "\n",
        "# print(basis_generator(6))"
      ],
      "metadata": {
        "id": "OwAZfbu6rgRP"
      },
      "execution_count": 2,
      "outputs": []
    },
    {
      "cell_type": "code",
      "source": [
        "def hamiltonian_generator(N, basis, v, w):\n",
        "  d = len(basis)\n",
        "  H = np.zeros((d, d))\n",
        "\n",
        "  for i in range(d):\n",
        "    for j in range(d):\n",
        "      H[i][j] = H_ij(i, j, basis, N, v, w)\n",
        "\n",
        "  return H\n",
        "\n",
        "\n",
        "def H_ij(i, j, basis, N, v, w):\n",
        "  ket = basis[i]\n",
        "  H_ket = np.zeros((N))\n",
        "  bra = basis[j]\n",
        "  H_element = 0\n",
        "  for k in range(0, N):\n",
        "    if ket[k] == 1:\n",
        "      H_ket[k] = 0\n",
        "    else:\n",
        "      H_ket[k] = C_dag(k, ket, v, w, N)\n",
        "\n",
        "  for k in range(0, N):\n",
        "    H_element += H_ket[k] * bra[k]\n",
        "\n",
        "  return H_element #, H_ket\n",
        "\n",
        "\n",
        "\n",
        "def C(k, ket):\n",
        "  if ket[k] == 0:\n",
        "    return 0\n",
        "  else:\n",
        "    return 1\n",
        "\n",
        "\n",
        "def C_dag(k, ket, v, w, N):\n",
        "  res = 0\n",
        "  if k // 2 == 0:\n",
        "    if ket[k + 1] == 1:\n",
        "      res += v\n",
        "    if k != 0 and ket[k - 1] == 1:\n",
        "      res += w\n",
        "  else:\n",
        "    if ket[k - 1] == 1:\n",
        "      res += v\n",
        "    if k != N - 1 and ket[k + 1] == 1:\n",
        "      res += w\n",
        "  return res"
      ],
      "metadata": {
        "id": "ua7Ie85krlWx"
      },
      "execution_count": 3,
      "outputs": []
    },
    {
      "cell_type": "code",
      "source": [
        "N = 6\n",
        "v = 1\n",
        "w = 2\n",
        "k = 1\n",
        "basis = basis_generator(N)\n",
        "H_element, H_ket = H_ij(0, 0, basis, N, v, w)\n",
        "print(H_element)\n",
        "print(H_ket)\n",
        "# print(C_dag(k, basis[0], v, w, N))"
      ],
      "metadata": {
        "colab": {
          "base_uri": "https://localhost:8080/"
        },
        "id": "FxoVh_pc-qoA",
        "outputId": "b750dfd0-164d-43e0-fa97-911637926d35"
      },
      "execution_count": null,
      "outputs": [
        {
          "output_type": "stream",
          "name": "stdout",
          "text": [
            "4.0\n",
            "[0. 3. 0. 3. 0. 1.]\n"
          ]
        }
      ]
    },
    {
      "cell_type": "code",
      "source": [
        "N = 4\n",
        "v = 1\n",
        "w = 2\n",
        "basis = basis_generator(N)\n",
        "print(basis)\n",
        "\n",
        "hamiltonian_matrix = hamiltonian_generator(N, basis, v, w)\n",
        "print(hamiltonian_matrix)"
      ],
      "metadata": {
        "collapsed": true,
        "id": "FMBpDf3rBjYU",
        "colab": {
          "base_uri": "https://localhost:8080/"
        },
        "outputId": "5bd67db5-9cc4-4b9a-d89c-1d999d68bb18"
      },
      "execution_count": 6,
      "outputs": [
        {
          "output_type": "stream",
          "name": "stdout",
          "text": [
            "[[1 0 1 0]\n",
            " [1 0 0 1]\n",
            " [0 1 1 0]\n",
            " [0 1 0 1]]\n",
            "[[0. 1. 3. 4.]\n",
            " [2. 0. 4. 2.]\n",
            " [1. 2. 0. 1.]\n",
            " [4. 1. 3. 0.]]\n"
          ]
        }
      ]
    },
    {
      "cell_type": "code",
      "source": [
        "steps = 11\n",
        "v_arr = np.linspace(0, 3, steps)\n",
        "w = 1\n",
        "N = 4\n",
        "E_arr = []\n",
        "basis = basis_generator(N)\n",
        "for i, v in enumerate(v_arr):\n",
        "  H = hamiltonian_generator(N, basis, v, w)\n",
        "\n",
        "  e_val, e_vec = np.linalg.eig(H)\n",
        "  print(H)\n",
        "  print(sp.linalg.ishermitian(H))\n",
        "  E_arr.append(np.sort(e_val))\n",
        "\n",
        "E_arr_2 = np.zeros((2*N, steps), dtype=np.float64)\n",
        "\n",
        "for i in range(steps):\n",
        "  for j in range(N):\n",
        "    E_arr_2[j,i] = E_arr[i][j]\n",
        "\n",
        "# print(E_arr_2)\n",
        "for e_arr in E_arr_2:\n",
        "  plt.plot(v_arr,e_arr)\n",
        "plt.show()\n",
        "\n"
      ],
      "metadata": {
        "colab": {
          "base_uri": "https://localhost:8080/",
          "height": 1000
        },
        "id": "VWWECNjAFRdc",
        "outputId": "761c55fc-48fb-41b8-b3a8-17c4ff27b5a6"
      },
      "execution_count": 4,
      "outputs": [
        {
          "output_type": "stream",
          "name": "stdout",
          "text": [
            "[[0. 0. 1. 1. 1. 1. 2. 2.]\n",
            " [1. 0. 1. 0. 2. 1. 2. 1.]\n",
            " [1. 1. 0. 0. 2. 2. 1. 1.]\n",
            " [2. 1. 1. 0. 3. 2. 2. 1.]\n",
            " [0. 0. 1. 1. 0. 0. 1. 1.]\n",
            " [1. 0. 1. 0. 1. 0. 1. 0.]\n",
            " [1. 1. 0. 0. 1. 1. 0. 0.]\n",
            " [2. 1. 1. 0. 2. 1. 1. 0.]]\n",
            "False\n",
            "[[0.  0.3 1.3 1.6 1.3 1.6 2.6 2.9]\n",
            " [1.  0.  1.3 0.3 2.3 1.3 2.6 1.6]\n",
            " [1.  1.3 0.  0.3 2.  2.3 1.  1.3]\n",
            " [2.3 1.  1.3 0.  3.3 2.  2.3 1. ]\n",
            " [0.3 0.6 1.6 1.9 0.  0.3 1.3 1.6]\n",
            " [1.3 0.3 1.6 0.6 1.  0.  1.3 0.3]\n",
            " [1.6 1.9 0.3 0.6 1.3 1.6 0.  0.3]\n",
            " [2.9 1.6 1.6 0.3 2.6 1.3 1.3 0. ]]\n",
            "False\n",
            "[[0.  0.6 1.6 2.2 1.6 2.2 3.2 3.8]\n",
            " [1.  0.  1.6 0.6 2.6 1.6 3.2 2.2]\n",
            " [1.  1.6 0.  0.6 2.  2.6 1.  1.6]\n",
            " [2.6 1.  1.6 0.  3.6 2.  2.6 1. ]\n",
            " [0.6 1.2 2.2 2.8 0.  0.6 1.6 2.2]\n",
            " [1.6 0.6 2.2 1.2 1.  0.  1.6 0.6]\n",
            " [2.2 2.8 0.6 1.2 1.6 2.2 0.  0.6]\n",
            " [3.8 2.2 2.2 0.6 3.2 1.6 1.6 0. ]]\n",
            "False\n",
            "[[0.  0.9 1.9 2.8 1.9 2.8 3.8 4.7]\n",
            " [1.  0.  1.9 0.9 2.9 1.9 3.8 2.8]\n",
            " [1.  1.9 0.  0.9 2.  2.9 1.  1.9]\n",
            " [2.9 1.  1.9 0.  3.9 2.  2.9 1. ]\n",
            " [0.9 1.8 2.8 3.7 0.  0.9 1.9 2.8]\n",
            " [1.9 0.9 2.8 1.8 1.  0.  1.9 0.9]\n",
            " [2.8 3.7 0.9 1.8 1.9 2.8 0.  0.9]\n",
            " [4.7 2.8 2.8 0.9 3.8 1.9 1.9 0. ]]\n",
            "False\n",
            "[[0.  1.2 2.2 3.4 2.2 3.4 4.4 5.6]\n",
            " [1.  0.  2.2 1.2 3.2 2.2 4.4 3.4]\n",
            " [1.  2.2 0.  1.2 2.  3.2 1.  2.2]\n",
            " [3.2 1.  2.2 0.  4.2 2.  3.2 1. ]\n",
            " [1.2 2.4 3.4 4.6 0.  1.2 2.2 3.4]\n",
            " [2.2 1.2 3.4 2.4 1.  0.  2.2 1.2]\n",
            " [3.4 4.6 1.2 2.4 2.2 3.4 0.  1.2]\n",
            " [5.6 3.4 3.4 1.2 4.4 2.2 2.2 0. ]]\n",
            "False\n",
            "[[0.  1.5 2.5 4.  2.5 4.  5.  6.5]\n",
            " [1.  0.  2.5 1.5 3.5 2.5 5.  4. ]\n",
            " [1.  2.5 0.  1.5 2.  3.5 1.  2.5]\n",
            " [3.5 1.  2.5 0.  4.5 2.  3.5 1. ]\n",
            " [1.5 3.  4.  5.5 0.  1.5 2.5 4. ]\n",
            " [2.5 1.5 4.  3.  1.  0.  2.5 1.5]\n",
            " [4.  5.5 1.5 3.  2.5 4.  0.  1.5]\n",
            " [6.5 4.  4.  1.5 5.  2.5 2.5 0. ]]\n",
            "False\n",
            "[[0.  1.8 2.8 4.6 2.8 4.6 5.6 7.4]\n",
            " [1.  0.  2.8 1.8 3.8 2.8 5.6 4.6]\n",
            " [1.  2.8 0.  1.8 2.  3.8 1.  2.8]\n",
            " [3.8 1.  2.8 0.  4.8 2.  3.8 1. ]\n",
            " [1.8 3.6 4.6 6.4 0.  1.8 2.8 4.6]\n",
            " [2.8 1.8 4.6 3.6 1.  0.  2.8 1.8]\n",
            " [4.6 6.4 1.8 3.6 2.8 4.6 0.  1.8]\n",
            " [7.4 4.6 4.6 1.8 5.6 2.8 2.8 0. ]]\n",
            "False\n",
            "[[0.  2.1 3.1 5.2 3.1 5.2 6.2 8.3]\n",
            " [1.  0.  3.1 2.1 4.1 3.1 6.2 5.2]\n",
            " [1.  3.1 0.  2.1 2.  4.1 1.  3.1]\n",
            " [4.1 1.  3.1 0.  5.1 2.  4.1 1. ]\n",
            " [2.1 4.2 5.2 7.3 0.  2.1 3.1 5.2]\n",
            " [3.1 2.1 5.2 4.2 1.  0.  3.1 2.1]\n",
            " [5.2 7.3 2.1 4.2 3.1 5.2 0.  2.1]\n",
            " [8.3 5.2 5.2 2.1 6.2 3.1 3.1 0. ]]\n",
            "False\n",
            "[[0.  2.4 3.4 5.8 3.4 5.8 6.8 9.2]\n",
            " [1.  0.  3.4 2.4 4.4 3.4 6.8 5.8]\n",
            " [1.  3.4 0.  2.4 2.  4.4 1.  3.4]\n",
            " [4.4 1.  3.4 0.  5.4 2.  4.4 1. ]\n",
            " [2.4 4.8 5.8 8.2 0.  2.4 3.4 5.8]\n",
            " [3.4 2.4 5.8 4.8 1.  0.  3.4 2.4]\n",
            " [5.8 8.2 2.4 4.8 3.4 5.8 0.  2.4]\n",
            " [9.2 5.8 5.8 2.4 6.8 3.4 3.4 0. ]]\n",
            "False\n",
            "[[ 0.   2.7  3.7  6.4  3.7  6.4  7.4 10.1]\n",
            " [ 1.   0.   3.7  2.7  4.7  3.7  7.4  6.4]\n",
            " [ 1.   3.7  0.   2.7  2.   4.7  1.   3.7]\n",
            " [ 4.7  1.   3.7  0.   5.7  2.   4.7  1. ]\n",
            " [ 2.7  5.4  6.4  9.1  0.   2.7  3.7  6.4]\n",
            " [ 3.7  2.7  6.4  5.4  1.   0.   3.7  2.7]\n",
            " [ 6.4  9.1  2.7  5.4  3.7  6.4  0.   2.7]\n",
            " [10.1  6.4  6.4  2.7  7.4  3.7  3.7  0. ]]\n",
            "False\n",
            "[[ 0.  3.  4.  7.  4.  7.  8. 11.]\n",
            " [ 1.  0.  4.  3.  5.  4.  8.  7.]\n",
            " [ 1.  4.  0.  3.  2.  5.  1.  4.]\n",
            " [ 5.  1.  4.  0.  6.  2.  5.  1.]\n",
            " [ 3.  6.  7. 10.  0.  3.  4.  7.]\n",
            " [ 4.  3.  7.  6.  1.  0.  4.  3.]\n",
            " [ 7. 10.  3.  6.  4.  7.  0.  3.]\n",
            " [11.  7.  7.  3.  8.  4.  4.  0.]]\n",
            "False\n"
          ]
        },
        {
          "output_type": "stream",
          "name": "stderr",
          "text": [
            "<ipython-input-4-a3f26bb50b01>:19: ComplexWarning: Casting complex values to real discards the imaginary part\n",
            "  E_arr_2[j,i] = E_arr[i][j]\n"
          ]
        },
        {
          "output_type": "display_data",
          "data": {
            "text/plain": [
              "<Figure size 640x480 with 1 Axes>"
            ],
            "image/png": "[encoded data removed]"
          },
          "metadata": {}
        }
      ]
    }
  ]
}