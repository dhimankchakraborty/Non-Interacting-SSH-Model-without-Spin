{
 "cells": [
  {
   "cell_type": "code",
   "execution_count": 43,
   "id": "c9f5b2aa",
   "metadata": {},
   "outputs": [],
   "source": [
    "import numpy as np\n",
    "import scipy as sp\n",
    "import matplotlib.pyplot as plt\n",
    "import itertools as itr\n",
    "import h5py\n",
    "import os\n",
    "from functions import *"
   ]
  },
  {
   "cell_type": "code",
   "execution_count": 9,
   "id": "4a19d4e8",
   "metadata": {},
   "outputs": [],
   "source": [
    "data_file_name = \"SSH_model_v3.h5\"\n",
    "data_file_output_directory = \"data\"\n",
    "os.makedirs(data_file_output_directory, exist_ok=True)\n",
    "data_file_full_path = os.path.join(data_file_output_directory, data_file_name)\n",
    "\n",
    "file = h5py.File(data_file_full_path, 'a')\n",
    "grp1 = file[\"run-1\"]"
   ]
  },
  {
   "cell_type": "code",
   "execution_count": 10,
   "id": "73f5f0e4",
   "metadata": {},
   "outputs": [],
   "source": [
    "v_arr = np.array(grp1['v_arr'][:])\n",
    "e_val_arr = np.array(grp1['E_arr'][:])\n",
    "e_vec_arr = np.array(grp1['E_vec_arr'][:])"
   ]
  },
  {
   "cell_type": "code",
   "execution_count": 11,
   "id": "501a6281",
   "metadata": {},
   "outputs": [
    {
     "name": "stdout",
     "output_type": "stream",
     "text": [
      "[0.   0.03 0.06 0.09 0.12 0.15 0.18 0.21 0.24 0.27 0.3  0.33 0.36 0.39\n",
      " 0.42 0.45 0.48 0.51 0.54 0.57 0.6  0.63 0.66 0.69 0.72 0.75 0.78 0.81\n",
      " 0.84 0.87 0.9  0.93 0.96 0.99 1.02 1.05 1.08 1.11 1.14 1.17 1.2  1.23\n",
      " 1.26 1.29 1.32 1.35 1.38 1.41 1.44 1.47 1.5  1.53 1.56 1.59 1.62 1.65\n",
      " 1.68 1.71 1.74 1.77 1.8  1.83 1.86 1.89 1.92 1.95 1.98 2.01 2.04 2.07\n",
      " 2.1  2.13 2.16 2.19 2.22 2.25 2.28 2.31 2.34 2.37 2.4  2.43 2.46 2.49\n",
      " 2.52 2.55 2.58 2.61 2.64 2.67 2.7  2.73 2.76 2.79 2.82 2.85 2.88 2.91\n",
      " 2.94 2.97 3.  ]\n",
      "----------\n",
      "[[ -924.          -924.          -924.         ...   924.\n",
      "    924.         10428.        ]\n",
      " [ -949.07215085  -941.61156804  -930.67195553 ...   932.0772315\n",
      "    941.6022618  10783.89519575]\n",
      " [ -974.32630792  -959.84724759  -938.33235    ...   941.08453343\n",
      "    959.81301668 11140.08073588]\n",
      " ...\n",
      " [-3584.22961857 -3420.98778039 -3161.12809709 ...  3195.13244475\n",
      "   3419.76964691 45640.95177914]\n",
      " [-3611.83491147 -3448.27911378 -3188.02465819 ...  3222.0907499\n",
      "   3447.06566699 46001.07862896]\n",
      " [-3639.44206336 -3475.57755796 -3214.93584294 ...  3249.0626136\n",
      "   3474.36879623 46361.20911304]]\n",
      "----------\n",
      "[[[ 0.00000000e+00 -6.41343696e-18  5.65921876e-21 ... -2.22000217e-02\n",
      "   -5.24777313e-02  1.69613383e-02]\n",
      "  [-2.04865006e-03 -1.22549554e-02  8.26957007e-03 ... -2.52047452e-02\n",
      "   -3.05835682e-02  1.69613383e-02]\n",
      "  [ 2.44769666e-02 -2.48245932e-03  2.06600686e-02 ... -2.52047452e-02\n",
      "   -3.05835682e-02  1.69613383e-02]\n",
      "  ...\n",
      "  [-2.44769666e-02  2.48245932e-03 -2.06600686e-02 ...  2.52047452e-02\n",
      "    3.05835682e-02  1.69613383e-02]\n",
      "  [ 2.04865006e-03  1.22549554e-02 -8.26957007e-03 ...  2.52047452e-02\n",
      "    3.05835682e-02  1.69613383e-02]\n",
      "  [ 5.55935137e-18  2.89244183e-18 -3.71999581e-18 ...  2.22000217e-02\n",
      "    5.24777313e-02  1.69613383e-02]]\n",
      "\n",
      " [[-4.29642624e-04  2.24256757e-05 -1.12933667e-04 ... -2.89072137e-05\n",
      "    5.47474167e-02  1.69684814e-02]\n",
      "  [ 2.38085596e-02  2.24256757e-05  1.95735571e-02 ... -2.89072137e-05\n",
      "    4.42665291e-02  1.69684814e-02]\n",
      "  [-3.94913672e-04 -1.07086674e-02  1.11288267e-04 ... -2.48346515e-04\n",
      "    4.40094849e-02  1.69684814e-02]\n",
      "  ...\n",
      "  [ 3.94913672e-04  1.07535187e-02 -1.11288267e-04 ...  1.90532087e-04\n",
      "   -4.40094849e-02  1.69684814e-02]\n",
      "  [-2.38085596e-02  2.24256757e-05 -1.95735571e-02 ... -2.89072137e-05\n",
      "   -4.42665291e-02  1.69684814e-02]\n",
      "  [ 4.29642624e-04  2.24256757e-05  1.12933667e-04 ... -2.89072137e-05\n",
      "   -5.47474167e-02  1.69684814e-02]]\n",
      "\n",
      " [[-8.31145275e-04  4.24094298e-05 -2.31781460e-04 ... -5.53365428e-05\n",
      "    5.49920618e-02  1.69749445e-02]\n",
      "  [ 2.33989961e-02  4.24094298e-05  1.96860257e-02 ... -5.53365428e-05\n",
      "    4.48088482e-02  1.69749445e-02]\n",
      "  [-7.64096854e-04 -1.06307362e-02  2.11278196e-04 ... -4.88401791e-04\n",
      "    4.43060079e-02  1.69749445e-02]\n",
      "  ...\n",
      "  [ 7.64096854e-04  1.07155551e-02 -2.11278196e-04 ...  3.77728706e-04\n",
      "   -4.43060079e-02  1.69749445e-02]\n",
      "  [-2.33989961e-02  4.24094298e-05 -1.96860257e-02 ... -5.53365428e-05\n",
      "   -4.48088482e-02  1.69749445e-02]\n",
      "  [ 8.31145275e-04  4.24094298e-05  2.31781460e-04 ... -5.53365428e-05\n",
      "   -5.49920618e-02  1.69749445e-02]]\n",
      "\n",
      " ...\n",
      "\n",
      " [[-9.32450025e-03  1.26582979e-04 -8.01725832e-03 ... -1.77525996e-04\n",
      "    5.69404983e-02 -1.70641730e-02]\n",
      "  [ 1.42731032e-02  1.26582979e-04  1.52755192e-02 ... -1.77525996e-04\n",
      "    5.46209383e-02 -1.70641730e-02]\n",
      "  [-8.60520263e-03 -8.70378760e-03 -1.97434672e-03 ... -5.95649676e-03\n",
      "    4.80785622e-02 -1.70641730e-02]\n",
      "  ...\n",
      "  [ 8.60520263e-03  8.95695355e-03  1.97434672e-03 ...  5.60144477e-03\n",
      "   -4.80785622e-02 -1.70641731e-02]\n",
      "  [-1.42731032e-02  1.26582979e-04 -1.52755192e-02 ... -1.77525996e-04\n",
      "   -5.46209383e-02 -1.70641730e-02]\n",
      "  [ 9.32450025e-03  1.26582979e-04  8.01725832e-03 ... -1.77525996e-04\n",
      "   -5.69404983e-02 -1.70641730e-02]]\n",
      "\n",
      " [[-9.34351381e-03  1.25835220e-04 -8.04613521e-03 ... -1.76400949e-04\n",
      "    5.69362162e-02 -1.70642597e-02]\n",
      "  [ 1.42516292e-02  1.25835220e-04  1.52476616e-02 ... -1.76400949e-04\n",
      "    5.46359413e-02 -1.70642597e-02]\n",
      "  [-8.62282661e-03 -8.69954667e-03 -1.99257984e-03 ... -5.96540010e-03\n",
      "    4.80794785e-02 -1.70642597e-02]\n",
      "  ...\n",
      "  [ 8.62282661e-03  8.95121711e-03  1.99257984e-03 ...  5.61259821e-03\n",
      "   -4.80794785e-02 -1.70642598e-02]\n",
      "  [-1.42516292e-02  1.25835220e-04 -1.52476616e-02 ... -1.76400949e-04\n",
      "   -5.46359413e-02 -1.70642597e-02]\n",
      "  [ 9.34351381e-03  1.25835220e-04  8.04613521e-03 ... -1.76400949e-04\n",
      "   -5.69362162e-02 -1.70642597e-02]]\n",
      "\n",
      " [[-9.36221768e-03  1.25094935e-04 -8.07456676e-03 ... -1.75288204e-04\n",
      "    5.69319666e-02 -1.70643444e-02]\n",
      "  [ 1.42305001e-02  1.25094935e-04  1.52202076e-02 ... -1.75288204e-04\n",
      "    5.46506617e-02 -1.70643444e-02]\n",
      "  [-8.64016387e-03 -8.69537863e-03 -2.01056189e-03 ... -5.97413204e-03\n",
      "    4.80803445e-02 -1.70643443e-02]\n",
      "  ...\n",
      "  [ 8.64016387e-03  8.94556850e-03  2.01056189e-03 ...  5.62355563e-03\n",
      "   -4.80803445e-02 -1.70643444e-02]\n",
      "  [-1.42305001e-02  1.25094935e-04 -1.52202076e-02 ... -1.75288204e-04\n",
      "   -5.46506617e-02 -1.70643444e-02]\n",
      "  [ 9.36221768e-03  1.25094935e-04  8.07456676e-03 ... -1.75288204e-04\n",
      "   -5.69319666e-02 -1.70643444e-02]]]\n"
     ]
    }
   ],
   "source": [
    "print(v_arr)\n",
    "print('----------')\n",
    "print(e_val_arr)\n",
    "print('----------')\n",
    "print(e_vec_arr)"
   ]
  },
  {
   "cell_type": "code",
   "execution_count": 12,
   "id": "1df1cb3f",
   "metadata": {},
   "outputs": [],
   "source": [
    "e_val_arr_abs = np.abs(e_val_arr)"
   ]
  },
  {
   "cell_type": "code",
   "execution_count": 24,
   "id": "26d333b0",
   "metadata": {},
   "outputs": [
    {
     "name": "stdout",
     "output_type": "stream",
     "text": [
      "101\n",
      "[np.int64(1839), np.int64(1846), np.int64(1850), np.int64(1854), np.int64(1845), np.int64(1835), np.int64(1839), np.int64(1840), np.int64(1828), np.int64(1853), np.int64(1849), np.int64(1846), np.int64(1848), np.int64(1843), np.int64(1831), np.int64(1836), np.int64(1833), np.int64(1842), np.int64(1840), np.int64(1838), np.int64(1841), np.int64(1846), np.int64(1851), np.int64(1851), np.int64(1840), np.int64(1846), np.int64(1834), np.int64(1850), np.int64(1843), np.int64(1839), np.int64(1835), np.int64(1849), np.int64(1843), np.int64(1834), np.int64(1835), np.int64(1842), np.int64(1848), np.int64(1848), np.int64(1835), np.int64(1841), np.int64(1849), np.int64(1844), np.int64(1852), np.int64(1841), np.int64(1840), np.int64(1839), np.int64(1842), np.int64(1843), np.int64(1853), np.int64(1843), np.int64(1850), np.int64(1847), np.int64(1837), np.int64(1843), np.int64(1851), np.int64(1841), np.int64(1844), np.int64(1832), np.int64(1845), np.int64(1845), np.int64(1835), np.int64(1854), np.int64(1841), np.int64(1845), np.int64(1846), np.int64(1848), np.int64(1836), np.int64(1834), np.int64(1851), np.int64(1829), np.int64(1853), np.int64(1850), np.int64(1842), np.int64(1850), np.int64(1854), np.int64(1845), np.int64(1842), np.int64(1841), np.int64(1839), np.int64(1840), np.int64(1844), np.int64(1841), np.int64(1828), np.int64(1843), np.int64(1837), np.int64(1835), np.int64(1842), np.int64(1854), np.int64(1836), np.int64(1846), np.int64(1845), np.int64(1841), np.int64(1842), np.int64(1852), np.int64(1839), np.int64(1839), np.int64(1848), np.int64(1847), np.int64(1846), np.int64(1838), np.int64(1840)]\n"
     ]
    }
   ],
   "source": [
    "tol = 10**(-17)\n",
    "topo_state_arr_idx_arr = []\n",
    "steps = len(e_val_arr)\n",
    "dim = len(e_val_arr[0])\n",
    "# print(steps, dim)\n",
    "\n",
    "for i in range(steps):\n",
    "    topo_state_arr_idx_arr.append(np.argmin(e_val_arr_abs[i]))\n",
    "\n",
    "print(len(topo_state_arr_idx_arr))\n",
    "print(topo_state_arr_idx_arr)"
   ]
  },
  {
   "cell_type": "code",
   "execution_count": null,
   "id": "12f797fc",
   "metadata": {},
   "outputs": [],
   "source": [
    "topo_state_arr = []\n",
    "\n",
    "for i in range(steps):\n",
    "    topo_state_arr.append(e_vec_arr[i][:, topo_state_arr_idx_arr[i]])\n",
    "\n",
    "topo_state_arr = np.array(topo_state_arr)"
   ]
  },
  {
   "cell_type": "code",
   "execution_count": 45,
   "id": "6c715447",
   "metadata": {},
   "outputs": [],
   "source": [
    "def basis_generator_n_2_e(N): # Checked OK\n",
    "\n",
    "  basis = []\n",
    "\n",
    "  for combination_indices in itertools.combinations(range(N), N // 2):\n",
    "    state = [0] * N\n",
    "    for index in combination_indices:\n",
    "      state[index] = 1\n",
    "    basis.append(state)\n",
    "  \n",
    "  return np.array(basis, dtype=np.float64)"
   ]
  },
  {
   "cell_type": "code",
   "execution_count": 46,
   "id": "77c12e70",
   "metadata": {},
   "outputs": [],
   "source": [
    "basis = basis_generator_n_2_e(14)"
   ]
  },
  {
   "cell_type": "code",
   "execution_count": 32,
   "id": "9c3ed948",
   "metadata": {},
   "outputs": [
    {
     "name": "stdout",
     "output_type": "stream",
     "text": [
      "(101, 3432)\n"
     ]
    }
   ],
   "source": [
    "print(np.shape(topo_state_arr))"
   ]
  },
  {
   "cell_type": "code",
   "execution_count": 47,
   "id": "07dd14e2",
   "metadata": {},
   "outputs": [],
   "source": [
    "topo_state_ps_arr = np.zeros((steps, 14))\n",
    "\n",
    "for i in range(steps):\n",
    "    for j in range(dim):\n",
    "        topo_state_ps_arr[i] += topo_state_arr[i][j] * basis[j]"
   ]
  },
  {
   "cell_type": "code",
   "execution_count": 48,
   "id": "01f48f7a",
   "metadata": {},
   "outputs": [
    {
     "name": "stdout",
     "output_type": "stream",
     "text": [
      "(101, 14)\n"
     ]
    }
   ],
   "source": [
    "print(np.shape(topo_state_ps_arr))"
   ]
  },
  {
   "cell_type": "code",
   "execution_count": null,
   "id": "435bd569",
   "metadata": {},
   "outputs": [],
   "source": [
    "sites_arr = np.arange(14)\n",
    "\n",
    "for i in range(steps):\n",
    "\n",
    "    print(np.linalg.norm(topo_state_ps_arr[i]))\n",
    "\n",
    "for i in range(steps):\n",
    "\n",
    "    plt.plot(sites_arr, topo_state_ps_arr[i] / np.linalg.norm(topo_state_ps_arr[i]), label=f\"{v_arr[i]}\")\n",
    "    plt.legend()\n",
    "    plt.grid()\n",
    "    plt.show()"
   ]
  },
  {
   "cell_type": "code",
   "execution_count": 54,
   "id": "9fbe1f00",
   "metadata": {},
   "outputs": [],
   "source": [
    "file.close()"
   ]
  }
 ],
 "metadata": {
  "kernelspec": {
   "display_name": "Python 3",
   "language": "python",
   "name": "python3"
  },
  "language_info": {
   "codemirror_mode": {
    "name": "ipython",
    "version": 3
   },
   "file_extension": ".py",
   "mimetype": "text/x-python",
   "name": "python",
   "nbconvert_exporter": "python",
   "pygments_lexer": "ipython3",
   "version": "3.13.4"
  }
 },
 "nbformat": 4,
 "nbformat_minor": 5
}
