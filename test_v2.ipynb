{
 "cells": [
  {
   "cell_type": "code",
   "execution_count": 4,
   "id": "39f91584",
   "metadata": {},
   "outputs": [],
   "source": [
    "import numpy as np\n",
    "import scipy as sp\n",
    "import matplotlib.pyplot as plt\n",
    "import itertools as itr\n",
    "import h5py\n",
    "import os\n",
    "from functions import *"
   ]
  },
  {
   "cell_type": "code",
   "execution_count": 26,
   "id": "6fdc244a",
   "metadata": {},
   "outputs": [],
   "source": [
    "def basis_generator_mul_e(tot_sites, N_e): # Checked OK\n",
    "\n",
    "  basis = []\n",
    "\n",
    "  for combination_indices in itertools.combinations(range(tot_sites), N_e):\n",
    "    state = [0] * tot_sites\n",
    "    for index in combination_indices:\n",
    "      state[index] = 1\n",
    "    basis.append(state)\n",
    "  \n",
    "  return np.array(basis, dtype=np.float64)\n",
    "\n",
    "\n",
    "def hamiltonian_generator_mul_e(tot_sites, N_e, v, w):\n",
    "  basis_set = basis_generator_mul_e(tot_sites, N_e)\n",
    "  d = len(basis_set)\n",
    "  H = np.zeros((d, d))\n",
    "\n",
    "  for i in range(d):\n",
    "    for j in range(d):\n",
    "      H[j][i] = np.dot(hamiltonian_on_ket(basis_set[i], tot_sites, v, w), basis_set[j])\n",
    "\n",
    "  return H\n",
    "\n",
    "\n",
    "def hamiltonian_on_ket(ket, tot_sites, v, w):\n",
    "  res = np.zeros((tot_sites), dtype=np.float64)\n",
    "  for i in range(tot_sites):\n",
    "    if i % 2 == 0 and i - 1 > 0:\n",
    "      if ket[i - 1] == 1:\n",
    "        res[i] += w\n",
    "      if ket[i + 1] == 1:\n",
    "        res[i] += v\n",
    "    elif i % 2 == 1 and i + 1 < tot_sites:\n",
    "      if ket[i - 1] == 1:\n",
    "        res[i] += v\n",
    "      if ket[i + 1] == 1:\n",
    "        res[i] += w\n",
    "    elif i == 0 and ket[i + 1] == 1:\n",
    "      res[i] += v\n",
    "    elif i == tot_sites - 1 and ket[i - 1] == 1:\n",
    "      res[i] += v\n",
    "  return res"
   ]
  },
  {
   "cell_type": "code",
   "execution_count": 29,
   "id": "62aaa485",
   "metadata": {},
   "outputs": [
    {
     "name": "stdout",
     "output_type": "stream",
     "text": [
      "True\n"
     ]
    }
   ],
   "source": [
    "N = 3\n",
    "tot_sites = N*2\n",
    "N_e = 2\n",
    "v = 1\n",
    "w = 2\n",
    "\n",
    "basis_set = basis_generator_mul_e(tot_sites, N_e)\n",
    "# print(basis_set)\n",
    "# for basis in basis_set:\n",
    "#     print(hamiltonian_on_ket(basis, tot_sites, v, w))\n",
    "\n",
    "hamiltonian = hamiltonian_generator_mul_e(tot_sites, N_e, v, w)\n",
    "\n",
    "print(sp.linalg.ishermitian(hamiltonian))\n",
    "\n",
    "# for row in hamiltonian:\n",
    "#     print(row)"
   ]
  }
 ],
 "metadata": {
  "kernelspec": {
   "display_name": "Python 3",
   "language": "python",
   "name": "python3"
  },
  "language_info": {
   "codemirror_mode": {
    "name": "ipython",
    "version": 3
   },
   "file_extension": ".py",
   "mimetype": "text/x-python",
   "name": "python",
   "nbconvert_exporter": "python",
   "pygments_lexer": "ipython3",
   "version": "3.13.4"
  }
 },
 "nbformat": 4,
 "nbformat_minor": 5
}
