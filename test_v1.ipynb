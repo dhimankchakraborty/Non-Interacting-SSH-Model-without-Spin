{
 "cells": [
  {
   "cell_type": "code",
   "execution_count": 2,
   "id": "39f91584",
   "metadata": {},
   "outputs": [],
   "source": [
    "import numpy as np\n",
    "import scipy as sp\n",
    "import matplotlib.pyplot as plt\n",
    "import itertools as itr\n",
    "import h5py\n",
    "import os\n",
    "from functions import *"
   ]
  },
  {
   "cell_type": "code",
   "execution_count": 6,
   "id": "35b7ce8e",
   "metadata": {},
   "outputs": [
    {
     "name": "stdout",
     "output_type": "stream",
     "text": [
      "[[  1.   2.   3.   4.   5.   6.   7.   8.   9.  10.]\n",
      " [ 11.  12.  13.  14.  15.  16.  17.  18.  19.  20.]\n",
      " [ 21.  22.  23.  24.  25.  26.  27.  28.  29.  30.]\n",
      " [ 31.  32.  33.  34.  35.  36.  37.  38.  39.  40.]\n",
      " [ 41.  42.  43.  44.  45.  46.  47.  48.  49.  50.]\n",
      " [ 51.  52.  53.  54.  55.  56.  57.  58.  59.  60.]\n",
      " [ 61.  62.  63.  64.  65.  66.  67.  68.  69.  70.]\n",
      " [ 71.  72.  73.  74.  75.  76.  77.  78.  79.  80.]\n",
      " [ 81.  82.  83.  84.  85.  86.  87.  88.  89.  90.]\n",
      " [ 91.  92.  93.  94.  95.  96.  97.  98.  99. 100.]]\n"
     ]
    }
   ],
   "source": [
    "N = 10\n",
    "mat = np.zeros((N, N))\n",
    "k = 1\n",
    "for i in range(N):\n",
    "    for j in range(N):\n",
    "        mat[i, j] = k\n",
    "        k += 1\n",
    "\n",
    "print(mat)"
   ]
  },
  {
   "cell_type": "code",
   "execution_count": 8,
   "id": "d029665b",
   "metadata": {},
   "outputs": [
    {
     "name": "stdout",
     "output_type": "stream",
     "text": [
      "[ 3. 13. 23. 33. 43. 53. 63. 73. 83. 93.]\n"
     ]
    }
   ],
   "source": [
    "print(mat[:, 2])"
   ]
  },
  {
   "cell_type": "code",
   "execution_count": null,
   "id": "6eadd93e",
   "metadata": {},
   "outputs": [],
   "source": [
    "data_file_name = \"ssh_1_e_1_run.h5\"\n",
    "data_file_output_directory = \"data\"\n",
    "os.makedirs(data_file_output_directory, exist_ok=True)\n",
    "data_file_full_path = os.path.join(data_file_output_directory, data_file_name)\n",
    "\n",
    "with h5py.File(data_file_full_path, 'w') as file:\n",
    "\n",
    "    grp1 = file.create_group(\"single-run\")\n",
    "\n",
    "# arr = np.arange(100)\n",
    "# dset = file.create_dataset(\"init\", data=arr)\n"
   ]
  }
 ],
 "metadata": {
  "kernelspec": {
   "display_name": "Python 3",
   "language": "python",
   "name": "python3"
  },
  "language_info": {
   "codemirror_mode": {
    "name": "ipython",
    "version": 3
   },
   "file_extension": ".py",
   "mimetype": "text/x-python",
   "name": "python",
   "nbconvert_exporter": "python",
   "pygments_lexer": "ipython3",
   "version": "3.13.4"
  }
 },
 "nbformat": 4,
 "nbformat_minor": 5
}
